{
  "cells": [
    {
      "cell_type": "markdown",
      "metadata": {
        "id": "SbvTrwEJaMNP"
      },
      "source": [
        "## Import necessary libraries"
      ]
    },
    {
      "cell_type": "code",
      "source": [
        "!pip install chatterbot"
      ],
      "metadata": {
        "colab": {
          "base_uri": "https://localhost:8080/"
        },
        "id": "w9REYiEjduHg",
        "outputId": "5ae173fd-4d28-484a-f047-46a1a79cb134"
      },
      "execution_count": 1,
      "outputs": [
        {
          "output_type": "stream",
          "name": "stdout",
          "text": [
            "Collecting chatterbot\n",
            "  Downloading ChatterBot-1.0.8-py2.py3-none-any.whl (63 kB)\n",
            "\u001b[?25l\r\u001b[K     |█████▏                          | 10 kB 25.3 MB/s eta 0:00:01\r\u001b[K     |██████████▎                     | 20 kB 33.6 MB/s eta 0:00:01\r\u001b[K     |███████████████▌                | 30 kB 29.6 MB/s eta 0:00:01\r\u001b[K     |████████████████████▋           | 40 kB 13.4 MB/s eta 0:00:01\r\u001b[K     |█████████████████████████▊      | 51 kB 13.6 MB/s eta 0:00:01\r\u001b[K     |███████████████████████████████ | 61 kB 15.0 MB/s eta 0:00:01\r\u001b[K     |████████████████████████████████| 63 kB 1.9 MB/s \n",
            "\u001b[?25hCollecting mathparse<0.2,>=0.1\n",
            "  Downloading mathparse-0.1.2-py3-none-any.whl (7.2 kB)\n",
            "Requirement already satisfied: python-dateutil<2.9,>=2.8 in /usr/local/lib/python3.7/dist-packages (from chatterbot) (2.8.2)\n",
            "Requirement already satisfied: pytz in /usr/local/lib/python3.7/dist-packages (from chatterbot) (2022.1)\n",
            "Collecting sqlalchemy<1.4,>=1.3\n",
            "  Downloading SQLAlchemy-1.3.24-cp37-cp37m-manylinux2010_x86_64.whl (1.3 MB)\n",
            "\u001b[K     |████████████████████████████████| 1.3 MB 31.5 MB/s \n",
            "\u001b[?25hRequirement already satisfied: six>=1.5 in /usr/local/lib/python3.7/dist-packages (from python-dateutil<2.9,>=2.8->chatterbot) (1.15.0)\n",
            "Installing collected packages: sqlalchemy, mathparse, chatterbot\n",
            "  Attempting uninstall: sqlalchemy\n",
            "    Found existing installation: SQLAlchemy 1.4.36\n",
            "    Uninstalling SQLAlchemy-1.4.36:\n",
            "      Successfully uninstalled SQLAlchemy-1.4.36\n",
            "Successfully installed chatterbot-1.0.8 mathparse-0.1.2 sqlalchemy-1.3.24\n"
          ]
        }
      ]
    },
    {
      "cell_type": "code",
      "source": [
        "from chatterbot import ChatBot\n",
        "from chatterbot.trainers import ListTrainer"
      ],
      "metadata": {
        "id": "Sjz-QSLrdvXv"
      },
      "execution_count": 2,
      "outputs": []
    },
    {
      "cell_type": "code",
      "source": [
        "cb = ChatBot(\"UNext\")"
      ],
      "metadata": {
        "id": "U52yedSAdvTH"
      },
      "execution_count": 6,
      "outputs": []
    },
    {
      "cell_type": "code",
      "source": [
        "tr = ListTrainer(cb)"
      ],
      "metadata": {
        "id": "tagE9HCxdvSP"
      },
      "execution_count": 7,
      "outputs": []
    },
    {
      "cell_type": "code",
      "source": [
        "tr.train([\"How can i help you\", \"I would love to find a course\", \"good morning\"])"
      ],
      "metadata": {
        "colab": {
          "base_uri": "https://localhost:8080/"
        },
        "id": "YA7X4x3FdvOJ",
        "outputId": "352b0504-433d-434e-d64d-82dd572d2fa7"
      },
      "execution_count": 9,
      "outputs": [
        {
          "output_type": "stream",
          "name": "stdout",
          "text": [
            "List Trainer: [####################] 100%\n"
          ]
        }
      ]
    },
    {
      "cell_type": "code",
      "source": [
        "response = cb.get_response(\"hi\")\n",
        "print(response)"
      ],
      "metadata": {
        "colab": {
          "base_uri": "https://localhost:8080/"
        },
        "id": "aWrSaRjqdvNV",
        "outputId": "b4e5b958-47ea-4665-9cfc-0d74a592632a"
      },
      "execution_count": 13,
      "outputs": [
        {
          "output_type": "stream",
          "name": "stdout",
          "text": [
            "I would love to find a course\n"
          ]
        }
      ]
    },
    {
      "cell_type": "code",
      "execution_count": 12,
      "metadata": {
        "id": "goYTgJ3CaMNP"
      },
      "outputs": [],
      "source": [
        "import io\n",
        "import random\n",
        "import string # to process standard python strings\n",
        "import warnings\n",
        "import numpy as np\n",
        "from sklearn.feature_extraction.text import TfidfVectorizer\n",
        "from sklearn.metrics.pairwise import cosine_similarity\n",
        "import warnings\n",
        "warnings.filterwarnings('ignore')"
      ]
    },
    {
      "cell_type": "code",
      "execution_count": 14,
      "metadata": {
        "colab": {
          "base_uri": "https://localhost:8080/"
        },
        "id": "PzrrwSOWaMNR",
        "outputId": "14dde894-f73b-4efb-ad63-df898b691f12"
      },
      "outputs": [
        {
          "output_type": "stream",
          "name": "stdout",
          "text": [
            "Requirement already satisfied: nltk in /usr/local/lib/python3.7/dist-packages (3.2.5)\n",
            "Requirement already satisfied: six in /usr/local/lib/python3.7/dist-packages (from nltk) (1.15.0)\n"
          ]
        }
      ],
      "source": [
        "!pip install nltk"
      ]
    },
    {
      "cell_type": "markdown",
      "metadata": {
        "id": "MvlsVpMIaMNT"
      },
      "source": [
        "### Installing NLTK Packages\n",
        "\n",
        "\n"
      ]
    },
    {
      "cell_type": "code",
      "execution_count": 15,
      "metadata": {
        "colab": {
          "base_uri": "https://localhost:8080/"
        },
        "id": "OCSnDZ8waMNU",
        "outputId": "95bb071c-6ae0-42e4-a0a6-55414702536f"
      },
      "outputs": [
        {
          "output_type": "stream",
          "name": "stdout",
          "text": [
            "[nltk_data] Downloading package punkt to /root/nltk_data...\n",
            "[nltk_data]   Package punkt is already up-to-date!\n",
            "[nltk_data] Downloading package wordnet to /root/nltk_data...\n",
            "[nltk_data]   Package wordnet is already up-to-date!\n"
          ]
        },
        {
          "output_type": "execute_result",
          "data": {
            "text/plain": [
              "True"
            ]
          },
          "metadata": {},
          "execution_count": 15
        }
      ],
      "source": [
        "import nltk\n",
        "from nltk.stem import WordNetLemmatizer\n",
        "nltk.download('popular', quiet=True) # for downloading packages\n",
        "nltk.download('punkt') # first-time use only\n",
        "nltk.download('wordnet') # first-time use only"
      ]
    },
    {
      "cell_type": "code",
      "execution_count": 16,
      "metadata": {
        "id": "A2OXRDsFaMNV"
      },
      "outputs": [],
      "source": [
        "f=open('chatbot.txt','r',errors = 'ignore')\n",
        "raw=f.read()\n",
        "raw = raw.lower()# converts to lowercase"
      ]
    },
    {
      "cell_type": "markdown",
      "metadata": {
        "id": "wx2OFsLyaMNX"
      },
      "source": [
        "## Tokenisation"
      ]
    },
    {
      "cell_type": "code",
      "execution_count": 17,
      "metadata": {
        "id": "tlE7WdSBaMNX"
      },
      "outputs": [],
      "source": [
        "sent_tokens = nltk.sent_tokenize(raw)# converts to list of sentences \n",
        "word_tokens = nltk.word_tokenize(raw)# converts to list of words"
      ]
    },
    {
      "cell_type": "code",
      "execution_count": 18,
      "metadata": {
        "id": "nW3KH2TFaMNY"
      },
      "outputs": [],
      "source": [
        "lemmer = nltk.stem.WordNetLemmatizer()\n",
        "#WordNet is a semantically-oriented dictionary of English included in NLTK.\n",
        "def LemTokens(tokens):\n",
        "    return [lemmer.lemmatize(token) for token in tokens]\n",
        "remove_punct_dict = dict((ord(punct), None) for punct in string.punctuation)\n",
        "\n",
        "def LemNormalize(text):\n",
        "    return LemTokens(nltk.word_tokenize(text.lower().translate(remove_punct_dict)))"
      ]
    },
    {
      "cell_type": "code",
      "source": [
        "Greeting_inputs =(\"hello\", \"hi\", \"hey\")\n",
        "GREETING_RESPONSES = [\"I am glad\", \"hi\", \"welcome\"]"
      ],
      "metadata": {
        "id": "hj76vpYfSXwI"
      },
      "execution_count": 19,
      "outputs": []
    },
    {
      "cell_type": "code",
      "source": [
        "def greeting(sentence):\n",
        "  for word in sentence.split(\" \"):\n",
        "    if word.lower() in Greeting_inputs:\n",
        "      return random.choice(GREETING_RESPONSES)"
      ],
      "metadata": {
        "id": "23b3_SL-S1h4"
      },
      "execution_count": 20,
      "outputs": []
    },
    {
      "cell_type": "code",
      "source": [
        "def response2(user_response):\n",
        "  respond= \"\"\n",
        "  sent_tokens.append(user_response)\n",
        "  tfidfvec = TfidfVectorizer(tokenizer=LemNormalize, stop_words=\"english\")\n",
        "  tfidf = tfidfvec.fit_transform(sent_tokens)\n",
        "  vals = cosine_similarity(tfidf[-1], tfidf)\n",
        "  idx = vals.argsort()[0][-2]\n",
        "  flat = vals.flatten()\n",
        "  flat.sort()\n",
        "  req_tfidf = flat[-2]\n",
        "  if(req_tfidf==0):\n",
        "    respond= respond+\"I am sorry, i dont understand\"\n",
        "    return respond\n",
        "  else:\n",
        "    respond= respond + sent_tokens[idx]\n",
        "    return respond\n"
      ],
      "metadata": {
        "id": "9XAvOJ9hTdVW"
      },
      "execution_count": 21,
      "outputs": []
    },
    {
      "cell_type": "code",
      "source": [
        "# from sklearn.feature_extraction.text import TfidfVectorizer\n",
        "\n",
        "# docs = [(\"Ukraine demands 15 year sentence for ousted President and former Paul Manafort \"\n",
        "#          'client, Viktor Yanukovych, accusing him of \"betraying his country\" to Russia.'),\n",
        "        \n",
        "#         \"Officials worry Trump may back Erik Prince plan to privatize war in Afghanistan\",\n",
        "        \n",
        "#         \"Donald Trump: U.S. 'Not Even Talking' To Canada About NAFTA\",\n",
        "        \n",
        "#         \"Russia's first ever gay Pride banned within 24 hours of being announced\",\n",
        "        \n",
        "#         'Trump is a \"Russian asset\" owned by the mafia, author claims in new book',\n",
        "        \n",
        "#         (\"Special counsel Robert Mueller proposes 'well over' 1,000 pieces of evidence for \"\n",
        "#          \"next trial of ex-Trump campaign boss Paul Manafort: Attorneys\"),\n",
        "        \n",
        "#         (\"China flat out denies the mass incarceration of Xinjiang’s Uyghurs as testimonies \"\n",
        "#          \"trickle out\"),\n",
        "        \n",
        "#         \"Pentagon worried that U.S. might slide from trade war into actual war with China\",\n",
        "        \n",
        "#         \"US says ready to sanction China for buying Iran's oil\",\n",
        "        \n",
        "#         (\"Traders are heavily betting on a price decline in coffee as orange juice prices \"\n",
        "#          \"soar – all because of crops, currencies and the US/China trade war\")\n",
        "#        ]\n",
        "# tfidf_vectorizer = TfidfVectorizer(stop_words='english')\n",
        "# tfidf_matrix = tfidf_vectorizer.fit_transform(docs)\n",
        "\n",
        "# cosine_similarity(tfidf_matrix[-1], tfidf_matrix)\n"
      ],
      "metadata": {
        "colab": {
          "base_uri": "https://localhost:8080/"
        },
        "id": "BxKmEu0zxkyv",
        "outputId": "9799a6c6-9062-43dd-fae0-1ec104ddc8d7"
      },
      "execution_count": 45,
      "outputs": [
        {
          "output_type": "execute_result",
          "data": {
            "text/plain": [
              "array([[0.        , 0.05284215, 0.        , 0.        , 0.        ,\n",
              "        0.        , 0.04064783, 0.22538064, 0.04653587, 1.        ]])"
            ]
          },
          "metadata": {},
          "execution_count": 45
        }
      ]
    },
    {
      "cell_type": "code",
      "source": [
        "# query = \"Paul Manafort Trump and Russia\"\n",
        "# query_vector = tfidf_vectorizer.transform([query])\n",
        "# cosine_similarity(query_vector, tfidf_matrix)"
      ],
      "metadata": {
        "colab": {
          "base_uri": "https://localhost:8080/"
        },
        "id": "PhcC3JJk1MiT",
        "outputId": "8e5bbb06-4a25-41fe-b33c-e46bdc0deef2"
      },
      "execution_count": 29,
      "outputs": [
        {
          "output_type": "execute_result",
          "data": {
            "text/plain": [
              "array([[0.34488089, 0.09582984, 0.12859623, 0.17267964, 0.09325757,\n",
              "        0.30233245, 0.        , 0.        , 0.        , 0.        ]])"
            ]
          },
          "metadata": {},
          "execution_count": 29
        }
      ]
    },
    {
      "cell_type": "code",
      "source": [
        "flag=True\n",
        "\n",
        "print(\"Siri : My name is siri\")\n",
        "while(flag==True):\n",
        "  response1= input()\n",
        "  response1= response1.lower()\n",
        "  if(response1!=\"bye\"):\n",
        "    if(response1==\"thanks\" or response1==\"thank you\"):\n",
        "      flag=False\n",
        "      print(\"Siri : u r welcm\")\n",
        "    else:\n",
        "      if(greeting(response1)!=None):\n",
        "        print(\"Siri :ex\"+ greeting(response1))\n",
        "      else:\n",
        "        print(\"Siri: \", end=\"\")\n",
        "        print(response2(response1))\n",
        "        sent_tokens.remove(response1)\n",
        "  else:\n",
        "    flag= False\n",
        "    print(\"bye tc\")"
      ],
      "metadata": {
        "colab": {
          "base_uri": "https://localhost:8080/"
        },
        "id": "k_QKc1cIWtfq",
        "outputId": "ffa9ceb6-4515-42d1-9b6f-bacdcab079dc"
      },
      "execution_count": 46,
      "outputs": [
        {
          "output_type": "stream",
          "name": "stdout",
          "text": [
            "Siri : My name is siri\n",
            "hi\n",
            "Siri I am glad\n",
            "explain about the course\n",
            "Siri: I am sorry, i dont understand\n",
            "learn and then come\n",
            "Siri: interface designers have come to appreciate that humans' readiness to interpret computer output as genuinely conversationaleven when it is actually based on rather simple pattern-matchingcan be exploited for useful purposes.\n",
            "thanks\n",
            "Siri : u r welcm\n"
          ]
        }
      ]
    },
    {
      "cell_type": "code",
      "source": [
        ""
      ],
      "metadata": {
        "id": "64gATZVdYgKt"
      },
      "execution_count": null,
      "outputs": []
    }
  ],
  "metadata": {
    "kernelspec": {
      "display_name": "Python 3",
      "language": "python",
      "name": "python3"
    },
    "language_info": {
      "codemirror_mode": {
        "name": "ipython",
        "version": 3
      },
      "file_extension": ".py",
      "mimetype": "text/x-python",
      "name": "python",
      "nbconvert_exporter": "python",
      "pygments_lexer": "ipython3",
      "version": "3.7.3"
    },
    "colab": {
      "name": "Chatbot.ipynb",
      "provenance": [],
      "collapsed_sections": []
    }
  },
  "nbformat": 4,
  "nbformat_minor": 0
}